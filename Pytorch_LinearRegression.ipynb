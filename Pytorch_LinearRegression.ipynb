{
  "nbformat": 4,
  "nbformat_minor": 0,
  "metadata": {
    "colab": {
      "name": "Pytorch_LinearRegression.ipynb",
      "provenance": [],
      "authorship_tag": "ABX9TyOXeIgcwL15ncqQGMIfDsbf",
      "include_colab_link": true
    },
    "kernelspec": {
      "name": "python3",
      "display_name": "Python 3"
    },
    "accelerator": "GPU"
  },
  "cells": [
    {
      "cell_type": "markdown",
      "metadata": {
        "id": "view-in-github",
        "colab_type": "text"
      },
      "source": [
        "<a href=\"https://colab.research.google.com/github/Akshata1992/Pytorch/blob/master/Pytorch_LinearRegression.ipynb\" target=\"_parent\"><img src=\"https://colab.research.google.com/assets/colab-badge.svg\" alt=\"Open In Colab\"/></a>"
      ]
    },
    {
      "cell_type": "code",
      "metadata": {
        "id": "nJxLKDJjhMc4",
        "colab_type": "code",
        "colab": {}
      },
      "source": [
        "#import required packages\n",
        "\n",
        "import torch as t\n",
        "import torch.nn as nn\n",
        "import numpy as np\n",
        "import matplotlib.pyplot as plt"
      ],
      "execution_count": 42,
      "outputs": []
    },
    {
      "cell_type": "code",
      "metadata": {
        "id": "M35Xw3hZbkbP",
        "colab_type": "code",
        "colab": {
          "base_uri": "https://localhost:8080/",
          "height": 35
        },
        "outputId": "6edf1d6f-86c9-442d-9579-1d6ed58bbcfc"
      },
      "source": [
        "#create dataset\n",
        "X = t.linspace(1,50,50).reshape(-1,1)\n",
        "print(X.shape)"
      ],
      "execution_count": 43,
      "outputs": [
        {
          "output_type": "stream",
          "text": [
            "torch.Size([50, 1])\n"
          ],
          "name": "stdout"
        }
      ]
    },
    {
      "cell_type": "code",
      "metadata": {
        "id": "Hvd_jFQBkYIg",
        "colab_type": "code",
        "colab": {
          "base_uri": "https://localhost:8080/",
          "height": 35
        },
        "outputId": "4bdc8ed5-5c8d-4699-c055-3308e919c4b6"
      },
      "source": [
        "#create noise to add to the equation\n",
        "e = t.randint(-8,9,(50,1),dtype=t.float)\n",
        "print(e.sum())"
      ],
      "execution_count": 44,
      "outputs": [
        {
          "output_type": "stream",
          "text": [
            "tensor(0.)\n"
          ],
          "name": "stdout"
        }
      ]
    },
    {
      "cell_type": "code",
      "metadata": {
        "id": "oN_FMpAVkYOg",
        "colab_type": "code",
        "colab": {
          "base_uri": "https://localhost:8080/",
          "height": 35
        },
        "outputId": "b8fed5b2-0a98-4b0b-8b24-eb722096d781"
      },
      "source": [
        "#create y data\n",
        "Y = 2*X + 1 + e\n",
        "print(Y.shape)"
      ],
      "execution_count": 45,
      "outputs": [
        {
          "output_type": "stream",
          "text": [
            "torch.Size([50, 1])\n"
          ],
          "name": "stdout"
        }
      ]
    },
    {
      "cell_type": "code",
      "metadata": {
        "id": "0f6D61wKkYHt",
        "colab_type": "code",
        "colab": {
          "base_uri": "https://localhost:8080/",
          "height": 297
        },
        "outputId": "fe494232-4d9d-4c62-da62-0cccfea9ef51"
      },
      "source": [
        "#convert X and Y values to plot the values\n",
        "\n",
        "plt.scatter(X.numpy(),Y.numpy())\n",
        "plt.ylabel('y')\n",
        "plt.xlabel('x')"
      ],
      "execution_count": 46,
      "outputs": [
        {
          "output_type": "execute_result",
          "data": {
            "text/plain": [
              "Text(0.5, 0, 'x')"
            ]
          },
          "metadata": {
            "tags": []
          },
          "execution_count": 46
        },
        {
          "output_type": "display_data",
          "data": {
            "image/png": "[encoded data removed]",
            "text/plain": [
              "<Figure size 432x288 with 1 Axes>"
            ]
          },
          "metadata": {
            "tags": [],
            "needs_background": "light"
          }
        }
      ]
    },
    {
      "cell_type": "code",
      "metadata": {
        "id": "BEMoz3s7pLsg",
        "colab_type": "code",
        "colab": {}
      },
      "source": [
        "class Model(nn.Module):\n",
        "    def __init__(self, in_features, out_features):\n",
        "        super().__init__()\n",
        "        self.linear = nn.Linear(in_features, out_features)\n",
        "        \n",
        "    def forward(self, x):\n",
        "        y_pred = self.linear(x)\n",
        "        return y_pred"
      ],
      "execution_count": 51,
      "outputs": []
    },
    {
      "cell_type": "code",
      "metadata": {
        "id": "SnW-4HI-pLyX",
        "colab_type": "code",
        "colab": {
          "base_uri": "https://localhost:8080/",
          "height": 54
        },
        "outputId": "f097554e-3613-426e-98b4-cc0229272c54"
      },
      "source": [
        "# send dimention to the model\n",
        "t.manual_seed(59)\n",
        "model = Model(1,1)\n",
        "print(\"Weights: \",model.linear.weight.item())\n",
        "print(\"Bias: \",model.linear.bias.item())"
      ],
      "execution_count": 52,
      "outputs": [
        {
          "output_type": "stream",
          "text": [
            "Weights:  0.10597813129425049\n",
            "Bias:  0.9637961387634277\n"
          ],
          "name": "stdout"
        }
      ]
    },
    {
      "cell_type": "code",
      "metadata": {
        "id": "md4vn-TRpLxr",
        "colab_type": "code",
        "colab": {}
      },
      "source": [
        "#define loss function\n",
        "\n",
        "critetion = nn.MSELoss()\n",
        "\n",
        "#define optimizer\n",
        "\n",
        "optimizer = t.optim.SGD(model.parameters(),lr = 0.001)"
      ],
      "execution_count": 53,
      "outputs": []
    },
    {
      "cell_type": "code",
      "metadata": {
        "id": "Ui-WFe3Lyqvt",
        "colab_type": "code",
        "colab": {
          "base_uri": "https://localhost:8080/",
          "height": 926
        },
        "outputId": "402c45a7-135d-4ef3-804b-6b2bb5bac6d2"
      },
      "source": [
        "epochs = 50\n",
        "losses = []\n",
        "\n",
        "for i in range(epochs):\n",
        "    i+=1\n",
        "    y_pred = model.forward(X)\n",
        "    loss = critetion(y_pred, Y)\n",
        "    losses.append(loss)\n",
        "    print(f'epoch: {i:2}  loss: {loss.item():10.8f}  weight: {model.linear.weight.item():10.8f}  \\\n",
        "bias: {model.linear.bias.item():10.8f}') \n",
        "    optimizer.zero_grad()\n",
        "    loss.backward()\n",
        "    optimizer.step()"
      ],
      "execution_count": 55,
      "outputs": [
        {
          "output_type": "stream",
          "text": [
            "epoch:  1  loss: 3123.72631836  weight: 0.10597813  bias: 0.96379614\n",
            "epoch:  2  loss: 1625.29858398  weight: 3.36746049  bias: 1.06046367\n",
            "epoch:  3  loss: 851.71337891  weight: 1.02404678  bias: 0.99060225\n",
            "epoch:  4  loss: 452.33831787  weight: 2.70783782  bias: 1.04039466\n",
            "epoch:  5  loss: 246.15515137  weight: 1.49802029  bias: 1.00421417\n",
            "epoch:  6  loss: 139.71025085  weight: 2.36730456  bias: 1.02980673\n",
            "epoch:  7  loss: 84.75653076  weight: 1.74272239  bias: 1.01101458\n",
            "epoch:  8  loss: 56.38589478  weight: 2.19150639  bias: 1.02411366\n",
            "epoch:  9  loss: 41.73908615  weight: 1.86906004  bias: 1.01429856\n",
            "epoch: 10  loss: 34.17742538  weight: 2.10075474  bias: 1.02094793\n",
            "epoch: 11  loss: 30.27358437  weight: 1.93429041  bias: 1.01576757\n",
            "epoch: 12  loss: 28.25813675  weight: 2.05390954  bias: 1.01908720\n",
            "epoch: 13  loss: 27.21761322  weight: 1.96797335  bias: 1.01629961\n",
            "epoch: 14  loss: 26.68041039  weight: 2.02973199  bias: 1.01790035\n",
            "epoch: 15  loss: 26.40302658  weight: 1.98536932  bias: 1.01634824\n",
            "epoch: 16  loss: 26.25979996  weight: 2.01725650  bias: 1.01706171\n",
            "epoch: 17  loss: 26.18583679  weight: 1.99435699  bias: 1.01614749\n",
            "epoch: 18  loss: 26.14762878  weight: 2.01082253  bias: 1.01640296\n",
            "epoch: 19  loss: 26.12787437  weight: 1.99900365  bias: 1.01581824\n",
            "epoch: 20  loss: 26.11764908  weight: 2.00750780  bias: 1.01583743\n",
            "epoch: 21  loss: 26.11233902  weight: 2.00140905  bias: 1.01542282\n",
            "epoch: 22  loss: 26.10958099  weight: 2.00580311  bias: 1.01532006\n",
            "epoch: 23  loss: 26.10811615  weight: 2.00265789  bias: 1.01499343\n",
            "epoch: 24  loss: 26.10734558  weight: 2.00492978  bias: 1.01482785\n",
            "epoch: 25  loss: 26.10691643  weight: 2.00330901  bias: 1.01454675\n",
            "epoch: 26  loss: 26.10667229  weight: 2.00448561  bias: 1.01434886\n",
            "epoch: 27  loss: 26.10652351  weight: 2.00365210  bias: 1.01409137\n",
            "epoch: 28  loss: 26.10641289  weight: 2.00426269  bias: 1.01387691\n",
            "epoch: 29  loss: 26.10634041  weight: 2.00383592  bias: 1.01363182\n",
            "epoch: 30  loss: 26.10626984  weight: 2.00415444  bias: 1.01340890\n",
            "epoch: 31  loss: 26.10620689  weight: 2.00393724  bias: 1.01317024\n",
            "epoch: 32  loss: 26.10614204  weight: 2.00410533  bias: 1.01294315\n",
            "epoch: 33  loss: 26.10608101  weight: 2.00399661  bias: 1.01270795\n",
            "epoch: 34  loss: 26.10604286  weight: 2.00408626  bias: 1.01247871\n",
            "epoch: 35  loss: 26.10597610  weight: 2.00403357  bias: 1.01224530\n",
            "epoch: 36  loss: 26.10592842  weight: 2.00408340  bias: 1.01201510\n",
            "epoch: 37  loss: 26.10587311  weight: 2.00405931  bias: 1.01178277\n",
            "epoch: 38  loss: 26.10581589  weight: 2.00408864  bias: 1.01155221\n",
            "epoch: 39  loss: 26.10575867  weight: 2.00407934  bias: 1.01132059\n",
            "epoch: 40  loss: 26.10571289  weight: 2.00409770  bias: 1.01108992\n",
            "epoch: 41  loss: 26.10565758  weight: 2.00409627  bias: 1.01085877\n",
            "epoch: 42  loss: 26.10560608  weight: 2.00410914  bias: 1.01062810\n",
            "epoch: 43  loss: 26.10555267  weight: 2.00411177  bias: 1.01039732\n",
            "epoch: 44  loss: 26.10550690  weight: 2.00412154  bias: 1.01016676\n",
            "epoch: 45  loss: 26.10544395  weight: 2.00412631  bias: 1.00993621\n",
            "epoch: 46  loss: 26.10538483  weight: 2.00413465  bias: 1.00970590\n",
            "epoch: 47  loss: 26.10533142  weight: 2.00414062  bias: 1.00947559\n",
            "epoch: 48  loss: 26.10529137  weight: 2.00414801  bias: 1.00924551\n",
            "epoch: 49  loss: 26.10522461  weight: 2.00415421  bias: 1.00901544\n",
            "epoch: 50  loss: 26.10517883  weight: 2.00416160  bias: 1.00878549\n"
          ],
          "name": "stdout"
        }
      ]
    },
    {
      "cell_type": "code",
      "metadata": {
        "id": "Fm9yImKI7QFB",
        "colab_type": "code",
        "colab": {
          "base_uri": "https://localhost:8080/",
          "height": 297
        },
        "outputId": "e364050f-19eb-43fd-fe28-1c6546658698"
      },
      "source": [
        "plt.plot(range(epochs),losses)\n",
        "plt.xlabel('Epochs')\n",
        "plt.ylabel('Losses')"
      ],
      "execution_count": 56,
      "outputs": [
        {
          "output_type": "execute_result",
          "data": {
            "text/plain": [
              "Text(0, 0.5, 'Losses')"
            ]
          },
          "metadata": {
            "tags": []
          },
          "execution_count": 56
        },
        {
          "output_type": "display_data",
          "data": {
            "image/png": "[encoded data removed]",
            "text/plain": [
              "<Figure size 432x288 with 1 Axes>"
            ]
          },
          "metadata": {
            "tags": [],
            "needs_background": "light"
          }
        }
      ]
    },
    {
      "cell_type": "code",
      "metadata": {
        "id": "L3I1s3OH88nY",
        "colab_type": "code",
        "colab": {}
      },
      "source": [
        "w1,b1 = model.linear.weight.item(),model.linear.bias.item()\n",
        "x1 = np.array([X.min(), X.max()])\n",
        "\n",
        "y1 = w1 * x1 + b1"
      ],
      "execution_count": 57,
      "outputs": []
    },
    {
      "cell_type": "code",
      "metadata": {
        "id": "vljv3FJ59rPl",
        "colab_type": "code",
        "colab": {
          "base_uri": "https://localhost:8080/",
          "height": 313
        },
        "outputId": "066320d3-12eb-4a5e-869b-5fb0a715aacb"
      },
      "source": [
        "plt.scatter(X.numpy(), Y.numpy())\n",
        "plt.plot(x1,y1,'g')\n",
        "plt.title(\"Current Model\")\n",
        "plt.xlabel('x')\n",
        "plt.ylabel('y')"
      ],
      "execution_count": 61,
      "outputs": [
        {
          "output_type": "execute_result",
          "data": {
            "text/plain": [
              "Text(0, 0.5, 'y')"
            ]
          },
          "metadata": {
            "tags": []
          },
          "execution_count": 61
        },
        {
          "output_type": "display_data",
          "data": {
            "image/png": "[encoded data removed]",
            "text/plain": [
              "<Figure size 432x288 with 1 Axes>"
            ]
          },
          "metadata": {
            "tags": [],
            "needs_background": "light"
          }
        }
      ]
    }
  ]
}